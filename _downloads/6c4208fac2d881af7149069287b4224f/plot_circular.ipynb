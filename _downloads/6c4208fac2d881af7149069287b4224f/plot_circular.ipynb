{
  "cells": [
    {
      "cell_type": "code",
      "execution_count": null,
      "metadata": {
        "collapsed": false
      },
      "outputs": [],
      "source": [
        "%matplotlib inline"
      ]
    },
    {
      "cell_type": "markdown",
      "metadata": {},
      "source": [
        "\n# Circular layout\n\nExample illustrating the circular layout\n"
      ]
    },
    {
      "cell_type": "code",
      "execution_count": null,
      "metadata": {
        "collapsed": false
      },
      "outputs": [],
      "source": [
        "import os\n\nimport numpy as np\nimport pandas as pd\n\nfrom netchos import circular\n\nimport plotly.io as pio\nimport plotly.graph_objects as go\nfrom plotly.subplots import make_subplots\n\npio.templates.default = 'plotly_white'"
      ]
    },
    {
      "cell_type": "markdown",
      "metadata": {},
      "source": [
        "## Load the data\n\n\n"
      ]
    },
    {
      "cell_type": "code",
      "execution_count": null,
      "metadata": {
        "collapsed": false
      },
      "outputs": [],
      "source": [
        "# load the connectivity 2D matrix\nufc = pd.read_excel('ufc.xlsx', index_col=0)\nprint(ufc)\n\n# load a table that contains informations about the nodes\nma = pd.read_excel('ma.xlsx')\nprint(ma)\n\n# computes nodes' degree\nma['degree'] = (~np.isnan(ufc.values)).sum(0)\n# compute node's strength\nma['strength'] = np.nansum(ufc, axis=0)"
      ]
    },
    {
      "cell_type": "markdown",
      "metadata": {},
      "source": [
        "## Default layout\n\n"
      ]
    },
    {
      "cell_type": "code",
      "execution_count": null,
      "metadata": {
        "collapsed": false
      },
      "outputs": [],
      "source": [
        "title = \"Default layout (nodes degree represented by marker size and color)\"\nfig = circular(\n    ufc\n)\nfig.update_layout(title=title)\npio.show(fig)"
      ]
    },
    {
      "cell_type": "markdown",
      "metadata": {},
      "source": [
        "## Passing data to the nodes\n\n"
      ]
    },
    {
      "cell_type": "code",
      "execution_count": null,
      "metadata": {
        "collapsed": false
      },
      "outputs": [],
      "source": [
        "\"\"\"\nHere, we use the `nodes_data` input to provide a pandas DataFrame containing\nnodes informations, namely :\n- The name of the nodes ('Name')\n- The number of connections per node ('degree')\n- The connectivity strength ('strength')\n- Additional categorization (each node is a brain region that belong to a lobe)\n\"\"\"\nfig = circular(\n    ufc, nodes_data=ma, nodes_name='Name', nodes_size='degree',\n    nodes_color='strength', categories='Lobe'\n)\npio.show(fig)"
      ]
    },
    {
      "cell_type": "markdown",
      "metadata": {},
      "source": [
        "## Control of aesthetics\n\n"
      ]
    },
    {
      "cell_type": "code",
      "execution_count": null,
      "metadata": {
        "collapsed": false
      },
      "outputs": [],
      "source": [
        "kw_circ = dict()\n\n# nodes settings\nkw_circ['nodes_size_min'] = 0.2\nkw_circ['nodes_size_max'] = 10\nkw_circ['nodes_cmap'] = 'plasma'    # colormap for the nodes\n\n# edges settings\nkw_circ['edges_width_min'] = .5\nkw_circ['edges_width_max'] = 9.\nkw_circ['edges_opacity_min'] = 0.2  # opacity for weakest connections\nkw_circ['edges_opacity_max'] = 1.   # opacity for strongest connections\nkw_circ['edges_cmap'] = 'agsunset'  # colormap for the edges\n\n# layout settings\nkw_circ['angle_start'] = 90         # start circle at 90\u00b0\nkw_circ['angle_range'] = 180        # use only half of the circle\nkw_circ['cbar_title'] = 'Significant links (p<0.05)'\n\n# sphinx_gallery_thumbnail_number = 3\nfig = circular(\n    ufc, nodes_data=ma, nodes_name='Name', nodes_size='degree',\n    nodes_color='strength', categories='Lobe', **kw_circ\n)\nfig.update_layout(width=600, height=700, title='<b>Control of aesthetics</b>',\n                  title_x=0.5, template='plotly_dark')\npio.show(fig)"
      ]
    },
    {
      "cell_type": "markdown",
      "metadata": {},
      "source": [
        "## Circular layout in subplots\n\n"
      ]
    },
    {
      "cell_type": "code",
      "execution_count": null,
      "metadata": {
        "collapsed": false
      },
      "outputs": [],
      "source": [
        "fig = make_subplots(rows=1, cols=2, subplot_titles=('Subplot 1', 'Subplot 2'))\n\n# configuring the first subplot\ncircular(\n    ufc, nodes_data=ma, nodes_name='Name', nodes_size='degree',\n    nodes_color='degree', categories='Lobe', nodes_cmap='plasma_r',\n    edges_cmap='plasma_r', angle_range=180, fig=fig,\n    kw_trace=dict(row=1, col=1), kw_cbar=dict(x=0.4)\n)\n\n# configuring the second subplot\ncircular(\n    ufc, nodes_data=ma, nodes_name='Name', nodes_size='strength',\n    nodes_color='strength', categories='Lobe', nodes_cmap='magma_r',\n    edges_cmap='magma_r', angle_range=180, fig=fig,\n    kw_trace=dict(row=1, col=2), kw_cbar=dict(x=0.95)\n)\n\ntitle = \"<b>Illustration of adding circular layouts to subplots</b>\"\nfig.update_layout(width=1000, height=800, title=title, title_x=0.5)\npio.show(fig)"
      ]
    }
  ],
  "metadata": {
    "kernelspec": {
      "display_name": "Python 3",
      "language": "python",
      "name": "python3"
    },
    "language_info": {
      "codemirror_mode": {
        "name": "ipython",
        "version": 3
      },
      "file_extension": ".py",
      "mimetype": "text/x-python",
      "name": "python",
      "nbconvert_exporter": "python",
      "pygments_lexer": "ipython3",
      "version": "3.7.10"
    }
  },
  "nbformat": 4,
  "nbformat_minor": 0
}