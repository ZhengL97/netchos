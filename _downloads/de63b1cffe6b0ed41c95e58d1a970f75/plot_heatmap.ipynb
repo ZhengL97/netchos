{
  "cells": [
    {
      "cell_type": "code",
      "execution_count": null,
      "metadata": {
        "collapsed": false
      },
      "outputs": [],
      "source": [
        "%matplotlib inline"
      ]
    },
    {
      "cell_type": "markdown",
      "metadata": {},
      "source": [
        "\n# Heatmap layout\n\nExample illustrating the heatmap layout.\n"
      ]
    },
    {
      "cell_type": "code",
      "execution_count": null,
      "metadata": {
        "collapsed": false
      },
      "outputs": [],
      "source": [
        "import os\n\nimport numpy as np\nimport pandas as pd\n\nfrom netchos import heatmap\n\nimport plotly.io as pio\nimport plotly.graph_objects as go\nfrom plotly.subplots import make_subplots\n\npio.templates.default = 'plotly_white'"
      ]
    },
    {
      "cell_type": "markdown",
      "metadata": {},
      "source": [
        "## Load the data\n\n\n"
      ]
    },
    {
      "cell_type": "code",
      "execution_count": null,
      "metadata": {
        "collapsed": false
      },
      "outputs": [],
      "source": [
        "# load the connectivity 2D matrix\nufc = pd.read_excel('ufc.xlsx', index_col=0)\nprint(ufc)\n\n# load a table that contains informations about the nodes\nma = pd.read_excel('ma.xlsx')\nprint(ma)"
      ]
    },
    {
      "cell_type": "markdown",
      "metadata": {},
      "source": [
        "## Default layout\n\n"
      ]
    },
    {
      "cell_type": "code",
      "execution_count": null,
      "metadata": {
        "collapsed": false
      },
      "outputs": [],
      "source": [
        "fig = heatmap(\n    ufc\n)\npio.show(fig)"
      ]
    },
    {
      "cell_type": "markdown",
      "metadata": {},
      "source": [
        "## Adding categorical lines\n\n"
      ]
    },
    {
      "cell_type": "code",
      "execution_count": null,
      "metadata": {
        "collapsed": false
      },
      "outputs": [],
      "source": [
        "# # define manual boundaries\nvmin, vmax = 0., 0.02\n\n# create the categories (node_name: category_name)\ncat = {n: c for n, c in zip(ma['Name'], ma['Lobe'])}\n\n# sphinx_gallery_thumbnail_number = 2\nfig = heatmap(\n    ufc, catline_x=cat, catline_y=cat, catline=dict(lw=2., color='white'),\n    cmap='agsunset_r', vmin=vmin, vmax=vmax\n)\nfig.update_layout(title='<b>Categorical lines</b>', title_x=.5,\n                  template='plotly_dark')\npio.show(fig)"
      ]
    },
    {
      "cell_type": "markdown",
      "metadata": {},
      "source": [
        "## Heatmap layout in subplots\n\n"
      ]
    },
    {
      "cell_type": "code",
      "execution_count": null,
      "metadata": {
        "collapsed": false
      },
      "outputs": [],
      "source": [
        "fig = make_subplots(rows=1, cols=2, subplot_titles=('Subplot 1', 'Subplot 2'))\n\n# configuring the first subplot\nheatmap(\n    ufc, catline_x=cat, catline_y=cat, catline=dict(lw=2., color='red'),\n    vmin=vmin, vmax=vmax, cmap='plasma', fig=fig, kw_trace=dict(row=1, col=1)\n)\n\n# configuring the second subplot\nheatmap(\n    ufc, catline_x=cat, catline_y=cat, catline=dict(lw=2., color='orange'),\n    vmin=vmin, vmax=vmax, cmap='magma', fig=fig, kw_trace=dict(row=1, col=2)\n)\nfig.update_layout(width=1200, height=600)\npio.show(fig)"
      ]
    }
  ],
  "metadata": {
    "kernelspec": {
      "display_name": "Python 3",
      "language": "python",
      "name": "python3"
    },
    "language_info": {
      "codemirror_mode": {
        "name": "ipython",
        "version": 3
      },
      "file_extension": ".py",
      "mimetype": "text/x-python",
      "name": "python",
      "nbconvert_exporter": "python",
      "pygments_lexer": "ipython3",
      "version": "3.7.10"
    }
  },
  "nbformat": 4,
  "nbformat_minor": 0
}