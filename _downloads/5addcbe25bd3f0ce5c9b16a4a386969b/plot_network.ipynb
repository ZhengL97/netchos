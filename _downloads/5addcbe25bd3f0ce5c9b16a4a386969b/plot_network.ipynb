{
  "cells": [
    {
      "cell_type": "code",
      "execution_count": null,
      "metadata": {
        "collapsed": false
      },
      "outputs": [],
      "source": [
        "%matplotlib inline"
      ]
    },
    {
      "cell_type": "markdown",
      "metadata": {},
      "source": [
        "\n# Network layout\n\nExample illustrating the network layout\n\n"
      ]
    },
    {
      "cell_type": "code",
      "execution_count": null,
      "metadata": {
        "collapsed": false
      },
      "outputs": [],
      "source": [
        "import os\n\nimport numpy as np\nimport pandas as pd\n\nfrom netchos import network\n\nimport plotly.io as pio\nimport plotly.graph_objects as go\nfrom plotly.subplots import make_subplots\n\npio.templates.default = 'plotly_white'"
      ]
    },
    {
      "cell_type": "markdown",
      "metadata": {},
      "source": [
        "## Load the data\n\n\n"
      ]
    },
    {
      "cell_type": "code",
      "execution_count": null,
      "metadata": {
        "collapsed": false
      },
      "outputs": [],
      "source": [
        "# load the connectivity 2D matrix\nufc = pd.read_excel('ufc.xlsx', index_col=0)\nprint(ufc)\n\n# load a table that contains informations about the nodes\nma = pd.read_excel('ma.xlsx')\nprint(ma)\n\n# computes nodes' degree\nma['degree'] = (~np.isnan(ufc.values)).sum(0)\n# compute node's strength\nma['strength'] = np.nansum(ufc, axis=0)"
      ]
    },
    {
      "cell_type": "markdown",
      "metadata": {},
      "source": [
        "## Default 2D layout\n\n"
      ]
    },
    {
      "cell_type": "code",
      "execution_count": null,
      "metadata": {
        "collapsed": false
      },
      "outputs": [],
      "source": [
        "fig = network(\n    ufc,                  # 2D connectivity matrix\n    nodes_data=ma,        # dataframe with data attached to each node\n    nodes_x='xcoord_2D',  # x-coordinate name in nodes_data table\n    nodes_y='ycoord_2D'   # y-coordinate name in nodes_data table\n)\nfig"
      ]
    },
    {
      "cell_type": "markdown",
      "metadata": {},
      "source": [
        "## Default 3D layout\n\n"
      ]
    },
    {
      "cell_type": "code",
      "execution_count": null,
      "metadata": {
        "collapsed": false
      },
      "outputs": [],
      "source": [
        "fig = network(\n    ufc,                  # 2D connectivity matrix\n    nodes_data=ma,        # dataframe with data attached to each node\n    nodes_x='xcoord_3D',  # x-coordinate name in nodes_data table\n    nodes_y='ycoord_3D',  # y-coordinate name in nodes_data table\n    nodes_z='zcoord_3D'   # z-coordinate name in nodes_data table\n)\nfig"
      ]
    },
    {
      "cell_type": "markdown",
      "metadata": {},
      "source": [
        "## Control of aesthetics\n\n"
      ]
    },
    {
      "cell_type": "code",
      "execution_count": null,
      "metadata": {
        "collapsed": false
      },
      "outputs": [],
      "source": [
        "fig = network(\n    ufc, nodes_data=ma,\n    nodes_x='xcoord_2D',      # x-coordinate (column name in ma)\n    nodes_y='ycoord_2D',      # y-coordinate (column name in ma)\n    nodes_color='degree',     # color of the node given by the degree\n    nodes_size='strength',    # marker size proportional to the strentgh\n    nodes_size_min=1.,        # minimum size of the nodes\n    nodes_size_max=30.,       # maximum size of the nodes\n    nodes_cmap='agsunset_r',  # colormap associated to the nodes\n    edges_cmap='agsunset_r',  # colormap associated to the edges\n    edges_opacity_min=.5,     # weak connections semi-transparents\n    edges_opacity_max=1.,     # strong connections opaques\n    cbar_title='UFC'\n)\n\ntitle = '<b>Control of aesthetics</b>'\nfig.update_layout(template='plotly_dark', title=title, title_x=.5)\nfig"
      ]
    },
    {
      "cell_type": "markdown",
      "metadata": {},
      "source": [
        "## Network layout in subplots\n\n"
      ]
    },
    {
      "cell_type": "code",
      "execution_count": null,
      "metadata": {
        "collapsed": false
      },
      "outputs": [],
      "source": [
        "fig = make_subplots(rows=1, cols=2, subplot_titles=('Subplot 1', 'Subplot 2'))\n\n# configuring the first subplot\nnetwork(\n    ufc, nodes_data=ma, nodes_x='xcoord_2D', nodes_y='ycoord_2D',\n    nodes_name='Name', nodes_size='degree', nodes_color='degree',\n    nodes_cmap='plasma_r', edges_cmap='plasma_r', fig=fig,\n    edges_opacity_min=0., edges_opacity_max=1., kw_trace=dict(row=1, col=1),\n    kw_cbar=dict(x=0.45)\n)\n\n# configuring the second subplot\nnetwork(\n    ufc, nodes_data=ma, nodes_x='xcoord_2D', nodes_y='ycoord_2D',\n    nodes_name='Name', nodes_size='strength', nodes_color='strength',\n    nodes_cmap='magma_r', edges_cmap='magma_r', fig=fig,\n    edges_opacity_min=.6, edges_opacity_max=.8, kw_trace=dict(row=1, col=2),\n    kw_cbar=dict(x=1.)\n)\n\ntitle = \"<b>Illustration of adding network layouts to subplots</b>\"\nfig.update_layout(width=1200, height=600, title=title, title_x=0.5)\nfig"
      ]
    }
  ],
  "metadata": {
    "kernelspec": {
      "display_name": "Python 3",
      "language": "python",
      "name": "python3"
    },
    "language_info": {
      "codemirror_mode": {
        "name": "ipython",
        "version": 3
      },
      "file_extension": ".py",
      "mimetype": "text/x-python",
      "name": "python",
      "nbconvert_exporter": "python",
      "pygments_lexer": "ipython3",
      "version": "3.6.13"
    }
  },
  "nbformat": 4,
  "nbformat_minor": 0
}